{
 "cells": [
  {
   "cell_type": "markdown",
   "id": "e97bd61a-debd-43c6-b75a-06d6d66088f7",
   "metadata": {},
   "source": [
    "# Classification practice"
   ]
  },
  {
   "cell_type": "markdown",
   "id": "8a161b7e-a6e3-4f3b-8438-ad0de4995736",
   "metadata": {},
   "source": [
    "#### Data preparation\n",
    "- Download the data, read it with pandas\n",
    "- Look at the data\n",
    "- Mkae column names and values look uniform\n",
    "- Check if all the columns read correctly\n",
    "- check if the columns read correctly\n",
    "- Check if the churn variable needs any preparation"
   ]
  },
  {
   "cell_type": "markdown",
   "id": "be827199-ed78-4a03-9055-b87d3c8b87ce",
   "metadata": {},
   "source": [
    "3.3 Setting up validation framework using sklearn. "
   ]
  },
  {
   "cell_type": "markdown",
   "id": "40d2ca3a-3bbe-4bcd-af30-bb897d142ecf",
   "metadata": {},
   "source": [
    "# EDA\n",
    "- Check missing values\n",
    "- Look at the target variable (churn\n",
    "- Look at numerical"
   ]
  },
  {
   "cell_type": "code",
   "execution_count": 2,
   "id": "96cf3301-3377-473f-8f24-345524c55458",
   "metadata": {},
   "outputs": [],
   "source": [
    "from sklearn.model_selection import train_test_split"
   ]
  },
  {
   "cell_type": "code",
   "execution_count": null,
   "id": "829e527d-3f36-4c8c-baca-05714313495c",
   "metadata": {},
   "outputs": [],
   "source": [
    "df_full_train,df_test =train_test_split(df, test_size =0.2, random_state=1)"
   ]
  },
  {
   "cell_type": "markdown",
   "id": "093f11cf-6955-46b9-b74a-b98fc453c53b",
   "metadata": {},
   "source": [
    "3.5\n",
    "\n",
    "1. Difference\n",
    "global-group\n",
    "< O more likely to churn\n",
    "> 0 less likely to churn\n",
    "    \n",
    "If  churn rate of a group is greater > 0 thery're less \n",
    "likely to churn\n",
    "\n",
    "<0 more likely to churn\n",
    "\n",
    "Risk ratio:\n",
    "> 1 more likely to churn\n",
    "< less likely to churn\n",
    "risk = group/gloabal"
   ]
  },
  {
   "cell_type": "markdown",
   "id": "1b62094a-cfb7-426c-a99c-7be73c4329fc",
   "metadata": {},
   "source": [
    "calculating the global churn rate and group churn rate to get the risk and diff churn rate\n",
    "\n",
    "df_group = df_full_train.groupby(gender').churn.agg(['mean'], 'count')\n",
    "\n",
    "The agg method help calculate the mean and count put it in a seprate colunm\n",
    "df_group[\"diff\"] = df_group[\"mean\"] - global_churn\n",
    "df_group[\"risk] = df_group[\"mean\"] / global_churn\n",
    "To get for other columns which are object use a for loop"
   ]
  },
  {
   "cell_type": "markdown",
   "id": "b57bf124-8a09-49a6-83f3-61f4e372b71f",
   "metadata": {},
   "source": [
    "#### Feature importance : Mutual Information\n",
    "- - Mutual information(MI) - it tells us how much we can learn about one variable if we know the value of another.\n",
    "\n",
    "- It is also way to measure the importance of a feature"
   ]
  },
  {
   "cell_type": "code",
   "execution_count": null,
   "id": "505e13e1-a840-46a6-9d21-ab95842a8b05",
   "metadata": {},
   "outputs": [],
   "source": [
    "# MI forlumala look it up\n",
    "from sklearn.metrics import mutual_info_score \n",
    "\n",
    "mutaual_info_score(df_full.churn, df_full_train_contract)"
   ]
  },
  {
   "cell_type": "markdown",
   "id": "ab1f22ea-8e4b-4e4f-a57e-f18cd88ae4c0",
   "metadata": {},
   "source": [
    "3.7\n",
    "#### Feature importancce : Correlation\n",
    "\n",
    "- Correlation coefficient\n",
    "\n",
    "- - This is a way to learn or know the importance of numerical feature(s)/column(s)\n",
    "\n",
    "    -1 <= r <= 1\n",
    "    Positive more tenure => higher churn\n",
    "    negative Less tenure => less churn\n",
    "    Zero  no effect on churn\n",
    "    if the correlation result is -ve it shows the higher the feature/column's value the lower the churn rate and vice versa\n",
    "    "
   ]
  },
  {
   "cell_type": "code",
   "execution_count": null,
   "id": "adfc9732-4148-4087-941d-7ff7719a6dac",
   "metadata": {},
   "outputs": [],
   "source": [
    "df_full_train[numerical].corrwith(df_full_train.churn)\n",
    "# corrwith method to calculate the correlation"
   ]
  },
  {
   "cell_type": "markdown",
   "id": "e16275dc-e634-4b79-a72e-08dfbe073a10",
   "metadata": {},
   "source": [
    "#### One-hot encoding\n",
    "- Use Sckit-learn for the one-hot encoding\n",
    "3.8\n"
   ]
  },
  {
   "cell_type": "markdown",
   "id": "e0aba0a5-470b-4cfb-911e-15e81bd9b0d8",
   "metadata": {},
   "source": [
    "#### logistic Regression\n",
    "g(xi)=yi\n",
    "g - model\n",
    "xi - feature\n",
    "yi - target / prediction\n",
    "\n",
    "- Logistic regression is a binary classification\n",
    "###### Type of classification\n",
    "- > Binary classification\n",
    "- > Multiclass classification\n",
    "\n",
    "The difference between Linear regression and binary classification(logistic regression)\n",
    "- logistic output 0 or 1\n",
    "- linear output real number(eR)\n",
    "- logistic use signoid\n",
    "- sigmoid formula\n",
    "- > def sigmoid(z):\n",
    "     return 1/ (1 + np.exp(-z))\n"
   ]
  },
  {
   "cell_type": "markdown",
   "id": "e1baa4e9-ebb1-4821-a89a-1dbd89c6d4ae",
   "metadata": {},
   "source": [
    "#### 3.10 Training logistics regression with scikit-learn \n",
    "- Train a model with Scikit-Learn\n",
    "- Apply it to the validation dataset\n",
    "- Calculate the accuracy"
   ]
  },
  {
   "cell_type": "markdown",
   "id": "a0b06a88-bc68-4c8f-bcdd-2eed45cf22f5",
   "metadata": {},
   "source": [
    "<!-- training a model woth scikit-learn   -->\n",
    "from sklearn.linear_model import LogisticRegression\n",
    "\n",
    "model = LogisticRegression()\n",
    "model.fix(X_train, y_train)"
   ]
  },
  {
   "cell_type": "markdown",
   "id": "2935a450-79b2-4011-9223-966a706338a9",
   "metadata": {},
   "source": [
    "### wk4 Evaluation Metrics\n",
    "##### 4.2 Accuracy and dummy model\n",
    "- Evaluate the model on different thresholds\n",
    "- check the accuracy of the dummy baselines\n",
    "\n",
    "form sklearn.metric import accuracy_score\n",
    "\n",
    "##### 4.3 Confusion table\n",
    "##### 4.4 Precision & Recall\n",
    "- accuracy can be misleading in a case where we have class inbalance\n",
    "\n",
    "##### 4.5  ROC curves\n",
    "##### 4.5b Plotting ROC curves with Scikit-learn\n",
    "- From sckilearn.metrics import roc_curve\n",
    "- \n",
    "##### 4.6 Area under the ROC curve (AUC)\n",
    "- From sckilearn.metrics import auc\n",
    "\n",
    "\n",
    "  "
   ]
  },
  {
   "cell_type": "code",
   "execution_count": 3,
   "id": "40438c65-55dd-45c1-b9ca-0722813efc79",
   "metadata": {},
   "outputs": [],
   "source": [
    "import pandas as pd"
   ]
  },
  {
   "cell_type": "code",
   "execution_count": 6,
   "id": "46d1fc9e-6822-42c0-ba2a-cb6224b3a0e2",
   "metadata": {},
   "outputs": [
    {
     "data": {
      "text/html": [
       "<div>\n",
       "<style scoped>\n",
       "    .dataframe tbody tr th:only-of-type {\n",
       "        vertical-align: middle;\n",
       "    }\n",
       "\n",
       "    .dataframe tbody tr th {\n",
       "        vertical-align: top;\n",
       "    }\n",
       "\n",
       "    .dataframe thead th {\n",
       "        text-align: right;\n",
       "    }\n",
       "</style>\n",
       "<table border=\"1\" class=\"dataframe\">\n",
       "  <thead>\n",
       "    <tr style=\"text-align: right;\">\n",
       "      <th></th>\n",
       "      <th>age</th>\n",
       "      <th>job</th>\n",
       "      <th>marital</th>\n",
       "      <th>education</th>\n",
       "      <th>default</th>\n",
       "      <th>balance</th>\n",
       "      <th>housing</th>\n",
       "      <th>loan</th>\n",
       "      <th>contact</th>\n",
       "      <th>day</th>\n",
       "      <th>month</th>\n",
       "      <th>duration</th>\n",
       "      <th>campaign</th>\n",
       "      <th>pdays</th>\n",
       "      <th>previous</th>\n",
       "      <th>poutcome</th>\n",
       "      <th>y</th>\n",
       "    </tr>\n",
       "  </thead>\n",
       "  <tbody>\n",
       "    <tr>\n",
       "      <th>0</th>\n",
       "      <td>58</td>\n",
       "      <td>management</td>\n",
       "      <td>married</td>\n",
       "      <td>tertiary</td>\n",
       "      <td>no</td>\n",
       "      <td>2143</td>\n",
       "      <td>yes</td>\n",
       "      <td>no</td>\n",
       "      <td>unknown</td>\n",
       "      <td>5</td>\n",
       "      <td>may</td>\n",
       "      <td>261</td>\n",
       "      <td>1</td>\n",
       "      <td>-1</td>\n",
       "      <td>0</td>\n",
       "      <td>unknown</td>\n",
       "      <td>no</td>\n",
       "    </tr>\n",
       "    <tr>\n",
       "      <th>1</th>\n",
       "      <td>44</td>\n",
       "      <td>technician</td>\n",
       "      <td>single</td>\n",
       "      <td>secondary</td>\n",
       "      <td>no</td>\n",
       "      <td>29</td>\n",
       "      <td>yes</td>\n",
       "      <td>no</td>\n",
       "      <td>unknown</td>\n",
       "      <td>5</td>\n",
       "      <td>may</td>\n",
       "      <td>151</td>\n",
       "      <td>1</td>\n",
       "      <td>-1</td>\n",
       "      <td>0</td>\n",
       "      <td>unknown</td>\n",
       "      <td>no</td>\n",
       "    </tr>\n",
       "    <tr>\n",
       "      <th>2</th>\n",
       "      <td>33</td>\n",
       "      <td>entrepreneur</td>\n",
       "      <td>married</td>\n",
       "      <td>secondary</td>\n",
       "      <td>no</td>\n",
       "      <td>2</td>\n",
       "      <td>yes</td>\n",
       "      <td>yes</td>\n",
       "      <td>unknown</td>\n",
       "      <td>5</td>\n",
       "      <td>may</td>\n",
       "      <td>76</td>\n",
       "      <td>1</td>\n",
       "      <td>-1</td>\n",
       "      <td>0</td>\n",
       "      <td>unknown</td>\n",
       "      <td>no</td>\n",
       "    </tr>\n",
       "    <tr>\n",
       "      <th>3</th>\n",
       "      <td>47</td>\n",
       "      <td>blue-collar</td>\n",
       "      <td>married</td>\n",
       "      <td>unknown</td>\n",
       "      <td>no</td>\n",
       "      <td>1506</td>\n",
       "      <td>yes</td>\n",
       "      <td>no</td>\n",
       "      <td>unknown</td>\n",
       "      <td>5</td>\n",
       "      <td>may</td>\n",
       "      <td>92</td>\n",
       "      <td>1</td>\n",
       "      <td>-1</td>\n",
       "      <td>0</td>\n",
       "      <td>unknown</td>\n",
       "      <td>no</td>\n",
       "    </tr>\n",
       "    <tr>\n",
       "      <th>4</th>\n",
       "      <td>33</td>\n",
       "      <td>unknown</td>\n",
       "      <td>single</td>\n",
       "      <td>unknown</td>\n",
       "      <td>no</td>\n",
       "      <td>1</td>\n",
       "      <td>no</td>\n",
       "      <td>no</td>\n",
       "      <td>unknown</td>\n",
       "      <td>5</td>\n",
       "      <td>may</td>\n",
       "      <td>198</td>\n",
       "      <td>1</td>\n",
       "      <td>-1</td>\n",
       "      <td>0</td>\n",
       "      <td>unknown</td>\n",
       "      <td>no</td>\n",
       "    </tr>\n",
       "  </tbody>\n",
       "</table>\n",
       "</div>"
      ],
      "text/plain": [
       "   age           job  marital  education default  balance housing loan  \\\n",
       "0   58    management  married   tertiary      no     2143     yes   no   \n",
       "1   44    technician   single  secondary      no       29     yes   no   \n",
       "2   33  entrepreneur  married  secondary      no        2     yes  yes   \n",
       "3   47   blue-collar  married    unknown      no     1506     yes   no   \n",
       "4   33       unknown   single    unknown      no        1      no   no   \n",
       "\n",
       "   contact  day month  duration  campaign  pdays  previous poutcome   y  \n",
       "0  unknown    5   may       261         1     -1         0  unknown  no  \n",
       "1  unknown    5   may       151         1     -1         0  unknown  no  \n",
       "2  unknown    5   may        76         1     -1         0  unknown  no  \n",
       "3  unknown    5   may        92         1     -1         0  unknown  no  \n",
       "4  unknown    5   may       198         1     -1         0  unknown  no  "
      ]
     },
     "execution_count": 6,
     "metadata": {},
     "output_type": "execute_result"
    }
   ],
   "source": [
    "df = pd.read_csv('bank-full.csv', sep=\";\")\n",
    "df.head()"
   ]
  },
  {
   "cell_type": "code",
   "execution_count": 7,
   "id": "a70f60a5-35ab-4797-a45d-68c45f476c1a",
   "metadata": {},
   "outputs": [
    {
     "name": "stdout",
     "output_type": "stream",
     "text": [
      "<class 'pandas.core.frame.DataFrame'>\n",
      "RangeIndex: 45211 entries, 0 to 45210\n",
      "Data columns (total 17 columns):\n",
      " #   Column     Non-Null Count  Dtype \n",
      "---  ------     --------------  ----- \n",
      " 0   age        45211 non-null  int64 \n",
      " 1   job        45211 non-null  object\n",
      " 2   marital    45211 non-null  object\n",
      " 3   education  45211 non-null  object\n",
      " 4   default    45211 non-null  object\n",
      " 5   balance    45211 non-null  int64 \n",
      " 6   housing    45211 non-null  object\n",
      " 7   loan       45211 non-null  object\n",
      " 8   contact    45211 non-null  object\n",
      " 9   day        45211 non-null  int64 \n",
      " 10  month      45211 non-null  object\n",
      " 11  duration   45211 non-null  int64 \n",
      " 12  campaign   45211 non-null  int64 \n",
      " 13  pdays      45211 non-null  int64 \n",
      " 14  previous   45211 non-null  int64 \n",
      " 15  poutcome   45211 non-null  object\n",
      " 16  y          45211 non-null  object\n",
      "dtypes: int64(7), object(10)\n",
      "memory usage: 5.9+ MB\n"
     ]
    }
   ],
   "source": [
    "df.info()"
   ]
  },
  {
   "cell_type": "code",
   "execution_count": 10,
   "id": "3b7f5f7e-b6da-48d9-970a-d2eaaadb848c",
   "metadata": {},
   "outputs": [
    {
     "data": {
      "text/plain": [
       "0     1\n",
       "1     1\n",
       "2     1\n",
       "3     1\n",
       "4     1\n",
       "5     1\n",
       "6     1\n",
       "7     1\n",
       "8     1\n",
       "9     1\n",
       "10    1\n",
       "11    1\n",
       "12    1\n",
       "13    1\n",
       "14    1\n",
       "Name: campaign, dtype: int64"
      ]
     },
     "execution_count": 10,
     "metadata": {},
     "output_type": "execute_result"
    }
   ],
   "source": [
    "df['campaign'].head(15)"
   ]
  },
  {
   "cell_type": "code",
   "execution_count": null,
   "id": "5a61af49-ef37-4597-8d47-87ce1489bf46",
   "metadata": {},
   "outputs": [],
   "source": []
  }
 ],
 "metadata": {
  "kernelspec": {
   "display_name": "Python 3 (ipykernel)",
   "language": "python",
   "name": "python3"
  },
  "language_info": {
   "codemirror_mode": {
    "name": "ipython",
    "version": 3
   },
   "file_extension": ".py",
   "mimetype": "text/x-python",
   "name": "python",
   "nbconvert_exporter": "python",
   "pygments_lexer": "ipython3",
   "version": "3.12.7"
  }
 },
 "nbformat": 4,
 "nbformat_minor": 5
}

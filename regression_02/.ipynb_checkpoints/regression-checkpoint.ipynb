{
 "cells": [
  {
   "cell_type": "code",
   "execution_count": 1,
   "id": "db2713c0-741f-4dc7-8f92-65cad414b59f",
   "metadata": {},
   "outputs": [],
   "source": [
    "import pandas as pd\n",
    "import numpy as np\n"
   ]
  },
  {
   "cell_type": "code",
   "execution_count": 2,
   "id": "cec94eea-f8ab-4553-940c-06ed28ab6f7c",
   "metadata": {
    "jupyter": {
     "source_hidden": true
    }
   },
   "outputs": [
    {
     "data": {
      "text/html": [
       "<div>\n",
       "<style scoped>\n",
       "    .dataframe tbody tr th:only-of-type {\n",
       "        vertical-align: middle;\n",
       "    }\n",
       "\n",
       "    .dataframe tbody tr th {\n",
       "        vertical-align: top;\n",
       "    }\n",
       "\n",
       "    .dataframe thead th {\n",
       "        text-align: right;\n",
       "    }\n",
       "</style>\n",
       "<table border=\"1\" class=\"dataframe\">\n",
       "  <thead>\n",
       "    <tr style=\"text-align: right;\">\n",
       "      <th></th>\n",
       "      <th>Laptop</th>\n",
       "      <th>Status</th>\n",
       "      <th>Brand</th>\n",
       "      <th>Model</th>\n",
       "      <th>CPU</th>\n",
       "      <th>RAM</th>\n",
       "      <th>Storage</th>\n",
       "      <th>Storage type</th>\n",
       "      <th>GPU</th>\n",
       "      <th>Screen</th>\n",
       "      <th>Touch</th>\n",
       "      <th>Final Price</th>\n",
       "    </tr>\n",
       "  </thead>\n",
       "  <tbody>\n",
       "    <tr>\n",
       "      <th>0</th>\n",
       "      <td>ASUS ExpertBook B1 B1502CBA-EJ0436X Intel Core...</td>\n",
       "      <td>New</td>\n",
       "      <td>Asus</td>\n",
       "      <td>ExpertBook</td>\n",
       "      <td>Intel Core i5</td>\n",
       "      <td>8</td>\n",
       "      <td>512</td>\n",
       "      <td>SSD</td>\n",
       "      <td>NaN</td>\n",
       "      <td>15.6</td>\n",
       "      <td>No</td>\n",
       "      <td>1009.00</td>\n",
       "    </tr>\n",
       "    <tr>\n",
       "      <th>1</th>\n",
       "      <td>Alurin Go Start Intel Celeron N4020/8GB/256GB ...</td>\n",
       "      <td>New</td>\n",
       "      <td>Alurin</td>\n",
       "      <td>Go</td>\n",
       "      <td>Intel Celeron</td>\n",
       "      <td>8</td>\n",
       "      <td>256</td>\n",
       "      <td>SSD</td>\n",
       "      <td>NaN</td>\n",
       "      <td>15.6</td>\n",
       "      <td>No</td>\n",
       "      <td>299.00</td>\n",
       "    </tr>\n",
       "    <tr>\n",
       "      <th>2</th>\n",
       "      <td>ASUS ExpertBook B1 B1502CBA-EJ0424X Intel Core...</td>\n",
       "      <td>New</td>\n",
       "      <td>Asus</td>\n",
       "      <td>ExpertBook</td>\n",
       "      <td>Intel Core i3</td>\n",
       "      <td>8</td>\n",
       "      <td>256</td>\n",
       "      <td>SSD</td>\n",
       "      <td>NaN</td>\n",
       "      <td>15.6</td>\n",
       "      <td>No</td>\n",
       "      <td>789.00</td>\n",
       "    </tr>\n",
       "    <tr>\n",
       "      <th>3</th>\n",
       "      <td>MSI Katana GF66 12UC-082XES Intel Core i7-1270...</td>\n",
       "      <td>New</td>\n",
       "      <td>MSI</td>\n",
       "      <td>Katana</td>\n",
       "      <td>Intel Core i7</td>\n",
       "      <td>16</td>\n",
       "      <td>1000</td>\n",
       "      <td>SSD</td>\n",
       "      <td>RTX 3050</td>\n",
       "      <td>15.6</td>\n",
       "      <td>No</td>\n",
       "      <td>1199.00</td>\n",
       "    </tr>\n",
       "    <tr>\n",
       "      <th>4</th>\n",
       "      <td>HP 15S-FQ5085NS Intel Core i5-1235U/16GB/512GB...</td>\n",
       "      <td>New</td>\n",
       "      <td>HP</td>\n",
       "      <td>15S</td>\n",
       "      <td>Intel Core i5</td>\n",
       "      <td>16</td>\n",
       "      <td>512</td>\n",
       "      <td>SSD</td>\n",
       "      <td>NaN</td>\n",
       "      <td>15.6</td>\n",
       "      <td>No</td>\n",
       "      <td>669.01</td>\n",
       "    </tr>\n",
       "  </tbody>\n",
       "</table>\n",
       "</div>"
      ],
      "text/plain": [
       "                                              Laptop Status   Brand  \\\n",
       "0  ASUS ExpertBook B1 B1502CBA-EJ0436X Intel Core...    New    Asus   \n",
       "1  Alurin Go Start Intel Celeron N4020/8GB/256GB ...    New  Alurin   \n",
       "2  ASUS ExpertBook B1 B1502CBA-EJ0424X Intel Core...    New    Asus   \n",
       "3  MSI Katana GF66 12UC-082XES Intel Core i7-1270...    New     MSI   \n",
       "4  HP 15S-FQ5085NS Intel Core i5-1235U/16GB/512GB...    New      HP   \n",
       "\n",
       "        Model            CPU  RAM  Storage Storage type       GPU  Screen  \\\n",
       "0  ExpertBook  Intel Core i5    8      512          SSD       NaN    15.6   \n",
       "1          Go  Intel Celeron    8      256          SSD       NaN    15.6   \n",
       "2  ExpertBook  Intel Core i3    8      256          SSD       NaN    15.6   \n",
       "3      Katana  Intel Core i7   16     1000          SSD  RTX 3050    15.6   \n",
       "4         15S  Intel Core i5   16      512          SSD       NaN    15.6   \n",
       "\n",
       "  Touch  Final Price  \n",
       "0    No      1009.00  \n",
       "1    No       299.00  \n",
       "2    No       789.00  \n",
       "3    No      1199.00  \n",
       "4    No       669.01  "
      ]
     },
     "execution_count": 2,
     "metadata": {},
     "output_type": "execute_result"
    }
   ],
   "source": [
    "# import load dataset and inspect\n",
    "laptops =pd.read_csv('./laptops_dataset.csv')\n",
    "laptops.head()"
   ]
  },
  {
   "cell_type": "code",
   "execution_count": 3,
   "id": "86bd7f60-f913-4cb9-9159-721048fa4fa4",
   "metadata": {},
   "outputs": [
    {
     "data": {
      "text/plain": [
       "Index(['Laptop', 'Status', 'Brand', 'Model', 'CPU', 'RAM', 'Storage',\n",
       "       'Storage type', 'GPU', 'Screen', 'Touch', 'Final Price'],\n",
       "      dtype='object')"
      ]
     },
     "execution_count": 3,
     "metadata": {},
     "output_type": "execute_result"
    }
   ],
   "source": [
    "laptops.columns"
   ]
  },
  {
   "cell_type": "code",
   "execution_count": 4,
   "id": "9168002a-6948-4ec3-b458-5f33d854ff32",
   "metadata": {
    "jupyter": {
     "source_hidden": true
    }
   },
   "outputs": [
    {
     "data": {
      "text/plain": [
       "Index(['laptop', 'status', 'brand', 'model', 'cpu', 'ram', 'storage',\n",
       "       'storage_type', 'gpu', 'screen', 'touch', 'final_price'],\n",
       "      dtype='object')"
      ]
     },
     "execution_count": 4,
     "metadata": {},
     "output_type": "execute_result"
    }
   ],
   "source": [
    "# perform string operation to normalize the index\n",
    "laptops.columns = laptops.columns.str.lower().str.replace(' ', '_')\n",
    "laptops.columns"
   ]
  },
  {
   "cell_type": "code",
   "execution_count": 5,
   "id": "ccecc2c2-c25c-4bb9-9fe7-14074f41f2cd",
   "metadata": {
    "jupyter": {
     "source_hidden": true
    }
   },
   "outputs": [
    {
     "data": {
      "text/html": [
       "<div>\n",
       "<style scoped>\n",
       "    .dataframe tbody tr th:only-of-type {\n",
       "        vertical-align: middle;\n",
       "    }\n",
       "\n",
       "    .dataframe tbody tr th {\n",
       "        vertical-align: top;\n",
       "    }\n",
       "\n",
       "    .dataframe thead th {\n",
       "        text-align: right;\n",
       "    }\n",
       "</style>\n",
       "<table border=\"1\" class=\"dataframe\">\n",
       "  <thead>\n",
       "    <tr style=\"text-align: right;\">\n",
       "      <th></th>\n",
       "      <th>ram</th>\n",
       "      <th>storage</th>\n",
       "      <th>screen</th>\n",
       "      <th>final_price</th>\n",
       "    </tr>\n",
       "  </thead>\n",
       "  <tbody>\n",
       "    <tr>\n",
       "      <th>0</th>\n",
       "      <td>8</td>\n",
       "      <td>512</td>\n",
       "      <td>15.6</td>\n",
       "      <td>1009.00</td>\n",
       "    </tr>\n",
       "    <tr>\n",
       "      <th>1</th>\n",
       "      <td>8</td>\n",
       "      <td>256</td>\n",
       "      <td>15.6</td>\n",
       "      <td>299.00</td>\n",
       "    </tr>\n",
       "    <tr>\n",
       "      <th>2</th>\n",
       "      <td>8</td>\n",
       "      <td>256</td>\n",
       "      <td>15.6</td>\n",
       "      <td>789.00</td>\n",
       "    </tr>\n",
       "    <tr>\n",
       "      <th>3</th>\n",
       "      <td>16</td>\n",
       "      <td>1000</td>\n",
       "      <td>15.6</td>\n",
       "      <td>1199.00</td>\n",
       "    </tr>\n",
       "    <tr>\n",
       "      <th>4</th>\n",
       "      <td>16</td>\n",
       "      <td>512</td>\n",
       "      <td>15.6</td>\n",
       "      <td>669.01</td>\n",
       "    </tr>\n",
       "  </tbody>\n",
       "</table>\n",
       "</div>"
      ],
      "text/plain": [
       "   ram  storage  screen  final_price\n",
       "0    8      512    15.6      1009.00\n",
       "1    8      256    15.6       299.00\n",
       "2    8      256    15.6       789.00\n",
       "3   16     1000    15.6      1199.00\n",
       "4   16      512    15.6       669.01"
      ]
     },
     "execution_count": 5,
     "metadata": {},
     "output_type": "execute_result"
    }
   ],
   "source": [
    "# select the need columns for the training 'ram', 'storage', 'screen', 'screen', 'final_price'\n",
    "\n",
    "laptops_selected_columns = laptops[['ram', 'storage','screen','final_price']]\n",
    "\n",
    "laptops_selected_columns.head()"
   ]
  },
  {
   "cell_type": "code",
   "execution_count": 6,
   "id": "38738d8d-4039-4d7b-ac03-2bd67336ff68",
   "metadata": {
    "jupyter": {
     "source_hidden": true
    }
   },
   "outputs": [],
   "source": [
    "import seaborn as sns"
   ]
  },
  {
   "cell_type": "code",
   "execution_count": 7,
   "id": "5820ac24-1b0f-4896-8ac2-c53790866be4",
   "metadata": {
    "jupyter": {
     "source_hidden": true
    }
   },
   "outputs": [
    {
     "data": {
      "text/plain": [
       "<Axes: xlabel='final_price', ylabel='Count'>"
      ]
     },
     "execution_count": 7,
     "metadata": {},
     "output_type": "execute_result"
    },
    {
     "data": {
      "image/png": "[encoded data removed]",
      "text/plain": [
       "<Figure size 640x480 with 1 Axes>"
      ]
     },
     "metadata": {},
     "output_type": "display_data"
    }
   ],
   "source": [
    "sns.histplot(laptops_selected_columns.final_price)"
   ]
  },
  {
   "cell_type": "markdown",
   "id": "c0d023f8-e86b-48c5-8b8f-302d2dea5d11",
   "metadata": {},
   "source": [
    "#### Q1: There's one column with missing values. What is it?\n"
   ]
  },
  {
   "cell_type": "code",
   "execution_count": 8,
   "id": "83aeef6e-55c0-4ba1-a4ad-b3afc3477e08",
   "metadata": {
    "jupyter": {
     "source_hidden": true
    }
   },
   "outputs": [
    {
     "data": {
      "text/plain": [
       "ram            0\n",
       "storage        0\n",
       "screen         4\n",
       "final_price    0\n",
       "dtype: int64"
      ]
     },
     "execution_count": 8,
     "metadata": {},
     "output_type": "execute_result"
    }
   ],
   "source": [
    "# Q1: There's one column with missing values. What is it?\n",
    "\n",
    "laptops_selected_columns.isnull().sum()"
   ]
  },
  {
   "cell_type": "code",
   "execution_count": 9,
   "id": "3d7aa0c7-fce7-4dd7-9f0a-17d2d1517e5d",
   "metadata": {},
   "outputs": [
    {
     "data": {
      "text/plain": [
       "'the column with the missing value is Screen, with four missing value'"
      ]
     },
     "execution_count": 9,
     "metadata": {},
     "output_type": "execute_result"
    }
   ],
   "source": [
    "f'the column with the missing value is Screen, with four missing value'"
   ]
  },
  {
   "cell_type": "markdown",
   "id": "965aa236-e776-4f93-b241-0ecb1cd6ed60",
   "metadata": {},
   "source": [
    "#### Q2: What's the median (50% percentile) for variable 'ram'?"
   ]
  },
  {
   "cell_type": "code",
   "execution_count": 10,
   "id": "4075bd28-ab00-48b1-9cc4-6c9f56a98d3a",
   "metadata": {},
   "outputs": [
    {
     "name": "stdout",
     "output_type": "stream",
     "text": [
      "The ram medain is: 16.0\n"
     ]
    }
   ],
   "source": [
    "# Q2: What's the median (50% percentile) for variable 'ram'?\n",
    "\n",
    "ram_median = laptops_selected_columns.ram.median()\n",
    "print(f'The ram medain is: {ram_median}')"
   ]
  },
  {
   "cell_type": "markdown",
   "id": "98d3941a-4597-412e-9596-7c6b93d3c192",
   "metadata": {},
   "source": [
    "#### Q3:\n",
    "\n",
    "\n",
    "- We need to deal with missing values for the column from Q1.\n",
    "- We have two options: fill it with 0 or with the mean of this variable.\n",
    "- Try both options. For each, train a linear regression model without regularization using the code from the lessons.\n",
    "- For computing the mean, use the training only!\n",
    "- Use the validation dataset to evaluate the models and compare the RMSE of each option.\n",
    "- Round the RMSE scores to 2 decimal digits using round(score, 2)\n",
    "- Which option gives better RMSE?"
   ]
  },
  {
   "cell_type": "code",
   "execution_count": 11,
   "id": "1416b90b-2621-44cf-8d44-68c5cb5d7800",
   "metadata": {},
   "outputs": [
    {
     "data": {
      "text/plain": [
       "(2160, 2160, 1296, 432, 432)"
      ]
     },
     "execution_count": 11,
     "metadata": {},
     "output_type": "execute_result"
    }
   ],
   "source": [
    "# prepare and split the dataset\n",
    "\n",
    "n = len(laptops_selected_columns)\n",
    "n_val = int(0.2 * n)\n",
    "n_test = int(0.2 * n)\n",
    "n_train = n - n_test - n_val\n",
    "\n",
    "n,n_train+n_val+n_test, n_train, n_val, n_test"
   ]
  },
  {
   "cell_type": "code",
   "execution_count": 12,
   "id": "c3f89a3c-a77e-4d88-a944-555b9aefc322",
   "metadata": {
    "jupyter": {
     "source_hidden": true
    }
   },
   "outputs": [
    {
     "data": {
      "text/plain": [
       "array([2079,  668, 2073, ..., 1130, 1294,  860])"
      ]
     },
     "execution_count": 12,
     "metadata": {},
     "output_type": "execute_result"
    }
   ],
   "source": [
    "idx = np.arange(n)\n",
    "np.random.seed(42)\n",
    "np.random.shuffle(idx)\n",
    "idx"
   ]
  },
  {
   "cell_type": "code",
   "execution_count": 13,
   "id": "fbf74640-98cd-4d61-9520-b09969423ef7",
   "metadata": {
    "jupyter": {
     "source_hidden": true
    }
   },
   "outputs": [],
   "source": [
    "# split the data with the generated idx\n",
    "laptops_train = laptops_selected_columns.iloc[idx[:n_train]].copy()\n",
    "laptops_val = laptops_selected_columns.iloc[idx[n_train:n_train+n_val]].copy()\n",
    "laptops_test = laptops_selected_columns.iloc[idx[n_train+n_val:]].copy()\n"
   ]
  },
  {
   "cell_type": "code",
   "execution_count": 14,
   "id": "f85cf1c3-a64c-4889-8bf5-9f846e7aaf5c",
   "metadata": {
    "jupyter": {
     "source_hidden": true
    }
   },
   "outputs": [
    {
     "data": {
      "text/plain": [
       "2160"
      ]
     },
     "execution_count": 14,
     "metadata": {},
     "output_type": "execute_result"
    }
   ],
   "source": [
    "# check if the sum of the splits equal the original dataset numbers of records\n",
    "len(laptops_train)+len(laptops_val)+len(laptops_test) "
   ]
  },
  {
   "cell_type": "code",
   "execution_count": 15,
   "id": "29e1ca52-802a-49fc-95a3-62bd8dba5411",
   "metadata": {
    "jupyter": {
     "source_hidden": true
    }
   },
   "outputs": [
    {
     "data": {
      "text/html": [
       "<div>\n",
       "<style scoped>\n",
       "    .dataframe tbody tr th:only-of-type {\n",
       "        vertical-align: middle;\n",
       "    }\n",
       "\n",
       "    .dataframe tbody tr th {\n",
       "        vertical-align: top;\n",
       "    }\n",
       "\n",
       "    .dataframe thead th {\n",
       "        text-align: right;\n",
       "    }\n",
       "</style>\n",
       "<table border=\"1\" class=\"dataframe\">\n",
       "  <thead>\n",
       "    <tr style=\"text-align: right;\">\n",
       "      <th></th>\n",
       "      <th>ram</th>\n",
       "      <th>storage</th>\n",
       "      <th>screen</th>\n",
       "      <th>final_price</th>\n",
       "    </tr>\n",
       "  </thead>\n",
       "  <tbody>\n",
       "    <tr>\n",
       "      <th>2079</th>\n",
       "      <td>32</td>\n",
       "      <td>1000</td>\n",
       "      <td>15.6</td>\n",
       "      <td>1123.29</td>\n",
       "    </tr>\n",
       "    <tr>\n",
       "      <th>668</th>\n",
       "      <td>4</td>\n",
       "      <td>64</td>\n",
       "      <td>14.1</td>\n",
       "      <td>201.05</td>\n",
       "    </tr>\n",
       "    <tr>\n",
       "      <th>2073</th>\n",
       "      <td>32</td>\n",
       "      <td>1000</td>\n",
       "      <td>14.0</td>\n",
       "      <td>997.74</td>\n",
       "    </tr>\n",
       "    <tr>\n",
       "      <th>1113</th>\n",
       "      <td>16</td>\n",
       "      <td>512</td>\n",
       "      <td>13.3</td>\n",
       "      <td>1016.00</td>\n",
       "    </tr>\n",
       "    <tr>\n",
       "      <th>788</th>\n",
       "      <td>32</td>\n",
       "      <td>1000</td>\n",
       "      <td>16.0</td>\n",
       "      <td>2739.00</td>\n",
       "    </tr>\n",
       "  </tbody>\n",
       "</table>\n",
       "</div>"
      ],
      "text/plain": [
       "      ram  storage  screen  final_price\n",
       "2079   32     1000    15.6      1123.29\n",
       "668     4       64    14.1       201.05\n",
       "2073   32     1000    14.0       997.74\n",
       "1113   16      512    13.3      1016.00\n",
       "788    32     1000    16.0      2739.00"
      ]
     },
     "execution_count": 15,
     "metadata": {},
     "output_type": "execute_result"
    }
   ],
   "source": [
    "# inspect the new dataset\n",
    "laptops_train.head()"
   ]
  },
  {
   "cell_type": "code",
   "execution_count": 16,
   "id": "b420a38a-28a9-4551-92a0-24ead90dcee5",
   "metadata": {
    "jupyter": {
     "source_hidden": true
    },
    "scrolled": true
   },
   "outputs": [
    {
     "data": {
      "text/html": [
       "<div>\n",
       "<style scoped>\n",
       "    .dataframe tbody tr th:only-of-type {\n",
       "        vertical-align: middle;\n",
       "    }\n",
       "\n",
       "    .dataframe tbody tr th {\n",
       "        vertical-align: top;\n",
       "    }\n",
       "\n",
       "    .dataframe thead th {\n",
       "        text-align: right;\n",
       "    }\n",
       "</style>\n",
       "<table border=\"1\" class=\"dataframe\">\n",
       "  <thead>\n",
       "    <tr style=\"text-align: right;\">\n",
       "      <th></th>\n",
       "      <th>ram</th>\n",
       "      <th>storage</th>\n",
       "      <th>screen</th>\n",
       "      <th>final_price</th>\n",
       "    </tr>\n",
       "  </thead>\n",
       "  <tbody>\n",
       "    <tr>\n",
       "      <th>0</th>\n",
       "      <td>32</td>\n",
       "      <td>1000</td>\n",
       "      <td>15.6</td>\n",
       "      <td>1123.29</td>\n",
       "    </tr>\n",
       "    <tr>\n",
       "      <th>1</th>\n",
       "      <td>4</td>\n",
       "      <td>64</td>\n",
       "      <td>14.1</td>\n",
       "      <td>201.05</td>\n",
       "    </tr>\n",
       "    <tr>\n",
       "      <th>2</th>\n",
       "      <td>32</td>\n",
       "      <td>1000</td>\n",
       "      <td>14.0</td>\n",
       "      <td>997.74</td>\n",
       "    </tr>\n",
       "    <tr>\n",
       "      <th>3</th>\n",
       "      <td>16</td>\n",
       "      <td>512</td>\n",
       "      <td>13.3</td>\n",
       "      <td>1016.00</td>\n",
       "    </tr>\n",
       "    <tr>\n",
       "      <th>4</th>\n",
       "      <td>32</td>\n",
       "      <td>1000</td>\n",
       "      <td>16.0</td>\n",
       "      <td>2739.00</td>\n",
       "    </tr>\n",
       "  </tbody>\n",
       "</table>\n",
       "</div>"
      ],
      "text/plain": [
       "   ram  storage  screen  final_price\n",
       "0   32     1000    15.6      1123.29\n",
       "1    4       64    14.1       201.05\n",
       "2   32     1000    14.0       997.74\n",
       "3   16      512    13.3      1016.00\n",
       "4   32     1000    16.0      2739.00"
      ]
     },
     "execution_count": 16,
     "metadata": {},
     "output_type": "execute_result"
    }
   ],
   "source": [
    "# reset index\n",
    "laptops_train=laptops_train.reset_index(drop=True)\n",
    "laptops_val=laptops_val.reset_index(drop=True)\n",
    "laptops_test=laptops_test.reset_index(drop=True)\n",
    "laptops_train.head()"
   ]
  },
  {
   "cell_type": "code",
   "execution_count": 17,
   "id": "a24002fa-7c15-437d-8506-983853bd848e",
   "metadata": {
    "jupyter": {
     "source_hidden": true
    }
   },
   "outputs": [
    {
     "data": {
      "text/plain": [
       "array([1123.29,  201.05,  997.74, 1016.  , 2739.  ])"
      ]
     },
     "execution_count": 17,
     "metadata": {},
     "output_type": "execute_result"
    }
   ],
   "source": [
    "# extract the values without log as the tail is not long\n",
    "y_train =laptops_train.final_price.values\n",
    "y_val =laptops_val.final_price.values\n",
    "y_test =laptops_test.final_price.values\n",
    "y_train[:5]"
   ]
  },
  {
   "cell_type": "code",
   "execution_count": 18,
   "id": "d7ed7350-1a4c-4ca0-bbd6-e4a66f1ba73f",
   "metadata": {
    "jupyter": {
     "source_hidden": true
    }
   },
   "outputs": [],
   "source": [
    "# del variable\n",
    "del laptops_train['final_price']\n",
    "del laptops_val['final_price']\n",
    "del laptops_test['final_price']"
   ]
  },
  {
   "cell_type": "code",
   "execution_count": 19,
   "id": "37ba84b0-90ca-434b-8eff-649f9b592197",
   "metadata": {},
   "outputs": [
    {
     "data": {
      "text/plain": [
       "Index(['ram', 'storage', 'screen'], dtype='object')"
      ]
     },
     "execution_count": 19,
     "metadata": {},
     "output_type": "execute_result"
    }
   ],
   "source": [
    "laptops_train.columns"
   ]
  },
  {
   "cell_type": "code",
   "execution_count": 20,
   "id": "e48fe72a-9db5-4b5b-aaf1-c8e6883cb522",
   "metadata": {},
   "outputs": [
    {
     "data": {
      "text/plain": [
       "2160"
      ]
     },
     "execution_count": 20,
     "metadata": {},
     "output_type": "execute_result"
    }
   ],
   "source": [
    "len(y_train)+len(y_val)+len(y_test)"
   ]
  },
  {
   "cell_type": "code",
   "execution_count": 21,
   "id": "ab9cb7b6-95d9-44d3-8fa5-28751481bfc6",
   "metadata": {},
   "outputs": [],
   "source": [
    "def linear_regression(X):\n",
    "    return X.dot(w_new)"
   ]
  },
  {
   "cell_type": "code",
   "execution_count": 22,
   "id": "c78209bf-eb2f-4bb1-aa78-32e4a6bcae73",
   "metadata": {},
   "outputs": [
    {
     "data": {
      "text/plain": [
       "1296"
      ]
     },
     "execution_count": 22,
     "metadata": {},
     "output_type": "execute_result"
    }
   ],
   "source": [
    "len(laptops_train)"
   ]
  },
  {
   "cell_type": "code",
   "execution_count": 23,
   "id": "39973e24-9bc1-4092-bd0d-34a619325b84",
   "metadata": {
    "jupyter": {
     "source_hidden": true
    }
   },
   "outputs": [
    {
     "data": {
      "text/plain": [
       "(1, 0, 3)"
      ]
     },
     "execution_count": 23,
     "metadata": {},
     "output_type": "execute_result"
    }
   ],
   "source": [
    "# detect missing values\n",
    "laptops_val['screen'].isnull().sum(), laptops_test['screen'].isnull().sum(), laptops_train['screen'].isnull().sum()"
   ]
  },
  {
   "cell_type": "code",
   "execution_count": 24,
   "id": "2e1232d3-a6ed-4926-b83d-0fa3201f177b",
   "metadata": {
    "jupyter": {
     "source_hidden": true
    }
   },
   "outputs": [
    {
     "data": {
      "text/plain": [
       "ram        0\n",
       "storage    0\n",
       "screen     3\n",
       "dtype: int64"
      ]
     },
     "execution_count": 24,
     "metadata": {},
     "output_type": "execute_result"
    }
   ],
   "source": [
    "# missing value in train split\n",
    "laptops_train.isnull().sum()"
   ]
  },
  {
   "cell_type": "code",
   "execution_count": 25,
   "id": "47c0862c-19f3-4f96-92ff-4d41d9a8c0ea",
   "metadata": {
    "jupyter": {
     "source_hidden": true
    }
   },
   "outputs": [
    {
     "data": {
      "text/plain": [
       "ram        0\n",
       "storage    0\n",
       "screen     0\n",
       "dtype: int64"
      ]
     },
     "execution_count": 25,
     "metadata": {},
     "output_type": "execute_result"
    }
   ],
   "source": [
    "# missing value in test split\n",
    "laptops_test.isnull().sum()"
   ]
  },
  {
   "cell_type": "code",
   "execution_count": 26,
   "id": "4932a959-022e-48d0-9114-377b76727bc8",
   "metadata": {},
   "outputs": [
    {
     "data": {
      "text/plain": [
       "ram        0\n",
       "storage    0\n",
       "screen     1\n",
       "dtype: int64"
      ]
     },
     "execution_count": 26,
     "metadata": {},
     "output_type": "execute_result"
    }
   ],
   "source": [
    "# missing value in val split\n",
    "laptops_val.isnull().sum()"
   ]
  },
  {
   "cell_type": "code",
   "execution_count": 27,
   "id": "5b715446-5fdb-43df-b559-eeda185d146e",
   "metadata": {
    "jupyter": {
     "source_hidden": true
    }
   },
   "outputs": [
    {
     "data": {
      "text/plain": [
       "0       15.6\n",
       "1       14.1\n",
       "2       14.0\n",
       "3       13.3\n",
       "4       16.0\n",
       "        ... \n",
       "1291    14.0\n",
       "1292    16.0\n",
       "1293    15.6\n",
       "1294    14.0\n",
       "1295    14.0\n",
       "Name: screen, Length: 1296, dtype: float64"
      ]
     },
     "execution_count": 27,
     "metadata": {},
     "output_type": "execute_result"
    }
   ],
   "source": [
    "# fill missing value with zero\n",
    "laptops_train['screen'].fillna(0)"
   ]
  },
  {
   "cell_type": "code",
   "execution_count": 28,
   "id": "a7906813-e1df-4c5e-b605-8716e3d5a764",
   "metadata": {},
   "outputs": [
    {
     "data": {
      "text/plain": [
       "ram        0\n",
       "storage    0\n",
       "screen     0\n",
       "dtype: int64"
      ]
     },
     "execution_count": 28,
     "metadata": {},
     "output_type": "execute_result"
    }
   ],
   "source": [
    "# fill missing value with 0\n",
    "laptops_train_with_zero = laptops_train.copy()\n",
    "laptops_train_with_zero['screen'] = laptops_train_with_zero['screen'].fillna(0)\n",
    "laptops_train_with_zero.isnull().sum()"
   ]
  },
  {
   "cell_type": "code",
   "execution_count": 29,
   "id": "c3281ef7-c08c-4861-a211-2beb60aa2064",
   "metadata": {},
   "outputs": [
    {
     "data": {
      "text/plain": [
       "(ram        0\n",
       " storage    0\n",
       " screen     0\n",
       " dtype: int64,\n",
       " 15.2)"
      ]
     },
     "execution_count": 29,
     "metadata": {},
     "output_type": "execute_result"
    }
   ],
   "source": [
    "# fill missing value with the mean of this variable.\n",
    "\n",
    "laptops_train_with_mean = laptops_train.copy()\n",
    "\n",
    "screen_mean = round(laptops_train_with_mean['screen'].mean(),1)\n",
    "laptops_train_with_mean['screen'] = laptops_train_with_mean['screen'].fillna(screen_mean)\n",
    "laptops_train_with_mean.isnull().sum(), screen_mean"
   ]
  },
  {
   "cell_type": "code",
   "execution_count": 30,
   "id": "3355cacb-f3e0-4ba5-83d9-3ad41af56932",
   "metadata": {},
   "outputs": [
    {
     "data": {
      "text/plain": [
       "1296"
      ]
     },
     "execution_count": 30,
     "metadata": {},
     "output_type": "execute_result"
    }
   ],
   "source": [
    "#  x value with zero\n",
    "x_train_with_zero = laptops_train_with_zero.values\n",
    "len(x_train_with_zero)"
   ]
  },
  {
   "cell_type": "code",
   "execution_count": 31,
   "id": "a6e98268-0e7d-4229-a9c5-f90b1c44a6d3",
   "metadata": {},
   "outputs": [
    {
     "data": {
      "text/plain": [
       "1296"
      ]
     },
     "execution_count": 31,
     "metadata": {},
     "output_type": "execute_result"
    }
   ],
   "source": [
    "x_train_with_mean = laptops_train_with_mean.values\n",
    "len(x_train_with_mean)"
   ]
  },
  {
   "cell_type": "code",
   "execution_count": 32,
   "id": "1469e686-2c9d-4fb2-86be-af776580d319",
   "metadata": {
    "jupyter": {
     "source_hidden": true
    }
   },
   "outputs": [],
   "source": [
    "# train function\n",
    "\n",
    "def train_linear_regression(X,y):\n",
    "    ones = np.ones(X.shape[0])\n",
    "    X = np.column_stack([ones,X])\n",
    "    XTX = X.T.dot(X)\n",
    "    XTX_inv = np.linalg.inv(XTX)\n",
    "    w_full = XTX_inv.dot(X.T).dot(y)\n",
    "\n",
    "    return w_full[0], w_full[1:]"
   ]
  },
  {
   "cell_type": "code",
   "execution_count": 33,
   "id": "797af73d-c03c-4929-b33a-542e8be36114",
   "metadata": {},
   "outputs": [
    {
     "name": "stdout",
     "output_type": "stream",
     "text": [
      "w0_with_zero: 676.8954853003471\n",
      "w_with_zero: [ 43.70681555   0.86506867 -36.10399833]\n"
     ]
    }
   ],
   "source": [
    "w0_with_zero, w_with_zero = train_linear_regression(x_train_with_zero, y_train) \n",
    "\n",
    "print('w0_with_zero:', w0_with_zero)\n",
    "print('w_with_zero:', w_with_zero)\n"
   ]
  },
  {
   "cell_type": "code",
   "execution_count": 34,
   "id": "da85edf3-833f-4f85-875e-c03b355ada80",
   "metadata": {},
   "outputs": [
    {
     "name": "stdout",
     "output_type": "stream",
     "text": [
      "w0_with_mean: 808.70227215832\n",
      "w_with_mean: [ 43.90756394   0.87133126 -45.16736577]\n"
     ]
    }
   ],
   "source": [
    "w0_with_mean, w_with_mean = train_linear_regression(x_train_with_mean, y_train) \n",
    "\n",
    "print('w0_with_mean:', w0_with_mean)\n",
    "print('w_with_mean:', w_with_mean)\n"
   ]
  },
  {
   "cell_type": "markdown",
   "id": "74baa1d2-9acc-4573-8d21-9a24a4469039",
   "metadata": {},
   "source": [
    "## Root Mean Square  (RMSE) "
   ]
  },
  {
   "cell_type": "markdown",
   "id": "f8059c92-abc5-4902-ae2c-33c87540f73d",
   "metadata": {},
   "source": [
    "- It is the difference between predictiona and actual price squared, the uare average(mean) and the square root of the result\n",
    "g(xi)-yi\n"
   ]
  },
  {
   "cell_type": "code",
   "execution_count": 35,
   "id": "2fa07593-2417-4d92-b3bb-f9b3baf34431",
   "metadata": {},
   "outputs": [],
   "source": [
    "def rmse(y,y_pred):\n",
    "    error = y-y_pred\n",
    "    se = error**2\n",
    "    mse =se.mean()\n",
    "    return np.sqrt(mse)"
   ]
  },
  {
   "cell_type": "markdown",
   "id": "52e9b578-c854-4258-b66d-ac7b7158f2dc",
   "metadata": {},
   "source": [
    "#### Reusable function to treat split"
   ]
  },
  {
   "cell_type": "code",
   "execution_count": 36,
   "id": "ef6a380c-b4ed-45a5-804f-c2a816dff319",
   "metadata": {
    "jupyter": {
     "source_hidden": true
    }
   },
   "outputs": [],
   "source": [
    "# function to treat missing values\n",
    "# check if it is possible to calculate the mean of each column simultaneously\n",
    "\n",
    "def prepare_value_zero(df):\n",
    "# fill missing value with 0\n",
    "    df_with_zero = df.copy()\n",
    "    df_with_zero['screen'] = df_with_zero['screen'].fillna(0)\n",
    "    return df_with_zero.values"
   ]
  },
  {
   "cell_type": "code",
   "execution_count": 37,
   "id": "6c01b1f7-8bc1-494b-9edb-92692963b4a5",
   "metadata": {
    "jupyter": {
     "source_hidden": true
    }
   },
   "outputs": [],
   "source": [
    "def prepare_value_mean(df):\n",
    "# fill missing value with mean\n",
    "    df_with_mean = df.copy()\n",
    "    screen_mean = round(df_with_mean['screen'].mean(),1)\n",
    "    df_with_mean['screen'] = df_with_mean['screen'].fillna(screen_mean)\n",
    "  \n",
    "    return df_with_mean.values"
   ]
  },
  {
   "cell_type": "code",
   "execution_count": 38,
   "id": "06db1e55-9bdd-4d72-b79a-de497f84f0bf",
   "metadata": {},
   "outputs": [
    {
     "data": {
      "text/plain": [
       "array([[  32. , 1000. ,   16. ],\n",
       "       [  16. ,  512. ,   15.6],\n",
       "       [  12. ,  512. ,   15.6],\n",
       "       ...,\n",
       "       [   8. ,  512. ,   14. ],\n",
       "       [  16. ,  512. ,   14. ],\n",
       "       [   4. ,   64. ,   14. ]])"
      ]
     },
     "execution_count": 38,
     "metadata": {},
     "output_type": "execute_result"
    }
   ],
   "source": [
    "x_val_with_zero = prepare_value_zero(laptops_val)\n",
    "len(x_train_with_zero)\n",
    "x_val_with_zero"
   ]
  },
  {
   "cell_type": "code",
   "execution_count": 39,
   "id": "8f585fb1-27c3-4049-9f3c-f79b78c65765",
   "metadata": {},
   "outputs": [
    {
     "data": {
      "text/plain": [
       "1296"
      ]
     },
     "execution_count": 39,
     "metadata": {},
     "output_type": "execute_result"
    }
   ],
   "source": [
    "x_val_with_mean = prepare_value_mean(laptops_val)\n",
    "len(x_train_with_mean)"
   ]
  },
  {
   "cell_type": "code",
   "execution_count": 40,
   "id": "0bc30490-4079-4ad0-85ed-741bc4b654c0",
   "metadata": {},
   "outputs": [],
   "source": [
    "def pred(w0, w, x):\n",
    "    pred = w0 + x.dot(w)\n",
    "    return pred"
   ]
  },
  {
   "cell_type": "code",
   "execution_count": 41,
   "id": "437209d9-074d-4b65-affd-f9244e202112",
   "metadata": {},
   "outputs": [
    {
     "data": {
      "text/plain": [
       "432"
      ]
     },
     "execution_count": 41,
     "metadata": {},
     "output_type": "execute_result"
    }
   ],
   "source": [
    "# prediction for zero value\n",
    "y_pred_zero = pred(w0_with_zero, w_with_zero, x_val_with_zero)\n",
    "len(y_pred_zero)"
   ]
  },
  {
   "cell_type": "code",
   "execution_count": 42,
   "id": "d9592320-730d-4e08-8efe-27bd7efd6077",
   "metadata": {},
   "outputs": [
    {
     "data": {
      "text/plain": [
       "432"
      ]
     },
     "execution_count": 42,
     "metadata": {},
     "output_type": "execute_result"
    }
   ],
   "source": [
    "# prediction for mean value\n",
    "y_pred_mean = pred(w0_with_mean, w_with_mean, x_val_with_mean)\n",
    "\n",
    "len(y_pred_mean)"
   ]
  },
  {
   "cell_type": "code",
   "execution_count": 43,
   "id": "9ec3b24d-68f3-4c51-b263-2e65dcc7038c",
   "metadata": {},
   "outputs": [
    {
     "data": {
      "text/plain": [
       "432"
      ]
     },
     "execution_count": 43,
     "metadata": {},
     "output_type": "execute_result"
    }
   ],
   "source": [
    "len(y_val)"
   ]
  },
  {
   "cell_type": "code",
   "execution_count": 44,
   "id": "bd095d99-ddee-4fad-a503-fb10ae9f2f9b",
   "metadata": {},
   "outputs": [
    {
     "name": "stdout",
     "output_type": "stream",
     "text": [
      "RMSE for when missing value is zero: 597.36\n"
     ]
    }
   ],
   "source": [
    "val_zero_rmse = rmse(y_val, y_pred_zero)\n",
    "print(\"RMSE for when missing value is zero:\", round(val_zero_rmse,2))"
   ]
  },
  {
   "cell_type": "code",
   "execution_count": 45,
   "id": "bebc0e95-0884-4b72-b419-998b3fdcf5f5",
   "metadata": {},
   "outputs": [
    {
     "name": "stdout",
     "output_type": "stream",
     "text": [
      "RMSE for when missing value is mean: 600.25\n"
     ]
    }
   ],
   "source": [
    "val_mean_rmse = rmse(y_val, y_pred_mean)\n",
    "print(\"RMSE for when missing value is mean:\", round(val_mean_rmse,2))"
   ]
  },
  {
   "cell_type": "markdown",
   "id": "355512d0-08e0-43d9-a87e-8c4650cb4283",
   "metadata": {},
   "source": [
    "## Linear Regression with Regularization"
   ]
  },
  {
   "cell_type": "code",
   "execution_count": 46,
   "id": "c70b5d53-2e15-4bd6-a192-abf028fe6623",
   "metadata": {},
   "outputs": [],
   "source": [
    "def train_linear_regression_reg(X,y, r):\n",
    "    ones = np.ones(X.shape[0])\n",
    "    X = np.column_stack([ones,X])\n",
    "    \n",
    "    XTX = X.T.dot(X)\n",
    "    XTX = XTX + r * np.eye(XTX.shape[0]) \n",
    "    XTX_inv = np.linalg.inv(XTX)\n",
    "    w_full = XTX_inv.dot(X.T).dot(y)\n",
    "    return w_full[0], w_full[1:]"
   ]
  },
  {
   "cell_type": "markdown",
   "id": "41f3e102-3a8d-4510-b1a5-22187aea44ed",
   "metadata": {},
   "source": [
    "##### Q4: "
   ]
  },
  {
   "cell_type": "code",
   "execution_count": 47,
   "id": "a0f0a427-f323-469d-82d0-55a020acbd4c",
   "metadata": {},
   "outputs": [],
   "source": [
    "# # fill with NAs with 0 and extract the value for s\n",
    "# x_train_reg = prepare_value_zero(laptops_train)\n",
    "# w0r,wr =train_linear_regression_reg(x_train_reg,y_train,r)\n",
    "# x_val_reg = prepare_value_zero(laptops_val)\n",
    "# y_pred_reg = pred(w0r,wr,x_val_reg)\n",
    "# score = rmse(y_val,y_pred_reg)\n",
    "# print(f\"When reg is {r}, bias term:{w0r}, score: {score}\")\n",
    "# len(x_train_reg)"
   ]
  },
  {
   "cell_type": "code",
   "execution_count": 53,
   "id": "9f61299a-02b6-422c-8844-3b4abad99254",
   "metadata": {},
   "outputs": [
    {
     "name": "stdout",
     "output_type": "stream",
     "text": [
      " When reg is 0,  score is: 597.36\n",
      " When reg is 0.01,  score is: 597.36\n",
      " When reg is 0.1,  score is: 597.35\n",
      " When reg is 1,  score is: 597.21\n",
      " When reg is 5,  score is: 597.01\n",
      " When reg is 10,  score is: 597.06\n",
      " When reg is 100,  score is: 597.9\n"
     ]
    }
   ],
   "source": [
    "r_values = [0, 0.01, 0.1, 1, 5, 10, 100]\n",
    "\n",
    "x_train_reg = prepare_value_zero(laptops_train)\n",
    "x_val_reg = prepare_value_zero(laptops_val)\n",
    "\n",
    "best_RMSE = 0.6\n",
    "for r in r_values:\n",
    "    w0r, wr = train_linear_regression_reg(x_train_reg, y_train, r)\n",
    "    y_pred_reg = pred(w0r, wr, x_val_reg)\n",
    "    score = rmse(y_val,y_pred_reg)\n",
    "    print(f\" When reg is {r},  score is: {round(score,2)}\")\n",
    "    # if score < best_RMSE:\n",
    "    #     best_RMSE = score\n",
    "    # check for the best score\n",
    "# f\"The best RMSE is {score}\"\n",
    "    "
   ]
  },
  {
   "cell_type": "markdown",
   "id": "2f3623fb-42f9-474c-97cc-e1a8f03ac460",
   "metadata": {},
   "source": [
    "### Q5:"
   ]
  },
  {
   "cell_type": "code",
   "execution_count": 49,
   "id": "025b854c-3b63-4702-a83e-b41ee379ed99",
   "metadata": {},
   "outputs": [
    {
     "data": {
      "text/plain": [
       "{'0': 2.1075278607081918e-11,\n",
       " '1': 2.1226857524592715e-11,\n",
       " '2': 2.579072960531938e-11,\n",
       " '3': 1.646884702867756e-11,\n",
       " '4': 2.294803664905425e-11,\n",
       " '5': 2.340054555885087e-11,\n",
       " '6': 5.975328864252116e-11,\n",
       " '7': 1.3859498539171376e-11,\n",
       " '8': 3.094892949478457e-11,\n",
       " '9': 4.3603557481090876e-11}"
      ]
     },
     "execution_count": 49,
     "metadata": {},
     "output_type": "execute_result"
    }
   ],
   "source": [
    "seeds = [0, 1, 2, 3, 4, 5, 6, 7, 8, 9]\n",
    "\n",
    "rmse_scores = {}\n",
    "n = len(laptops_selected_columns)\n",
    "n_val = int(0.2 * n)\n",
    "n_test = int(0.2 * n)\n",
    "n_train = n - n_test - n_val\n",
    "\n",
    "for seed in seeds:\n",
    "    \n",
    "    idx = np.arange(n)\n",
    "    np.random.seed(seed)\n",
    "    np.random.shuffle(idx)\n",
    "    \n",
    "    laptops_train_seed = laptops_selected_columns.iloc[idx[:n_train]].copy()\n",
    "    laptops_val_seed = laptops_selected_columns.iloc[idx[n_train:n_train+n_val]].copy()\n",
    "    laptops_test_seed = laptops_selected_columns.iloc[idx[n_train+n_val:]].copy()\n",
    "# reset index\n",
    "    laptops_train_seed = laptops_train_seed.reset_index(drop=True)\n",
    "    laptops_val_seed = laptops_val_seed.reset_index(drop=True)\n",
    "    laptops_test_seed = laptops_test_seed.reset_index(drop=True)\n",
    "# log of the final_price\n",
    "    y_train_seed = laptops_train_seed.final_price.values\n",
    "    y_val_seed = laptops_val_seed.final_price.values\n",
    "    y_test_seed = laptops_test_seed.final_price.values\n",
    "\n",
    "    # del variable\n",
    "    del laptops_train_seed['final_price']\n",
    "    del laptops_val_seed['final_price']\n",
    "    del laptops_test_seed['final_price']\n",
    "\n",
    "    # extract the values\n",
    "    x_train_seed = prepare_value_zero(laptops_train_seed)  \n",
    "    x_val_seed = prepare_value_zero(laptops_val_seed)  \n",
    "    \n",
    "    # train the model\n",
    "    w0_seed, w_seed = train_linear_regression(x_train_seed, y_train_seed)\n",
    "    \n",
    "    # prediction for zero value\n",
    "    y_pred_seed = pred(w0_seed, w_seed, x_val_seed)\n",
    "    # rmse\n",
    "    score = rmse(y_val_seed, y_pred_seed)\n",
    "    rmse_scores[f\"{seed}\"] = score\n",
    "    f\"seed {seed} score {score}\"\n",
    "    # rmse_scores.append(score)\n",
    "rmse_scores   "
   ]
  },
  {
   "cell_type": "code",
   "execution_count": 50,
   "id": "4951fc70-98e4-4b6f-badb-30f9967295d9",
   "metadata": {},
   "outputs": [
    {
     "data": {
      "text/plain": [
       "[2.1075278607081918e-11,\n",
       " 2.1226857524592715e-11,\n",
       " 2.579072960531938e-11,\n",
       " 1.646884702867756e-11,\n",
       " 2.294803664905425e-11,\n",
       " 2.340054555885087e-11,\n",
       " 5.975328864252116e-11,\n",
       " 1.3859498539171376e-11,\n",
       " 3.094892949478457e-11,\n",
       " 4.3603557481090876e-11]"
      ]
     },
     "execution_count": 50,
     "metadata": {},
     "output_type": "execute_result"
    }
   ],
   "source": [
    "rmse_list = list(rmse_scores.values())\n",
    "rmse_list"
   ]
  },
  {
   "cell_type": "code",
   "execution_count": 51,
   "id": "79f427a1-16c8-4f98-88e2-14bb76d416af",
   "metadata": {},
   "outputs": [
    {
     "data": {
      "text/plain": [
       "0.0"
      ]
     },
     "execution_count": 51,
     "metadata": {},
     "output_type": "execute_result"
    }
   ],
   "source": [
    "round(np.std(rmse_list),3)"
   ]
  },
  {
   "cell_type": "markdown",
   "id": "2df167ff-01fc-41dd-85a8-710885a59750",
   "metadata": {},
   "source": [
    "### Q6:"
   ]
  },
  {
   "cell_type": "markdown",
   "id": "a3a8e391-e5da-45c9-9bfb-0a6696cb8bcb",
   "metadata": {},
   "source": [
    " - Split the dataset like previously, use seed 9.\n",
    " -  Combine train and validation datasets.\n",
    " -  Fill the missing values with 0 and train a model with r=0.001.\n",
    " - What's the RMSE on the test dataset?\n",
    " \n",
    " \n",
    "\n",
    "\n",
    "\n",
    "\n"
   ]
  },
  {
   "cell_type": "code",
   "execution_count": 52,
   "id": "2627dea0-f151-4a37-9e9b-ee4644bd8c8f",
   "metadata": {},
   "outputs": [
    {
     "data": {
      "text/plain": [
       "576.1019598779097"
      ]
     },
     "execution_count": 52,
     "metadata": {},
     "output_type": "execute_result"
    }
   ],
   "source": [
    "# seed as 9\n",
    "\n",
    "\n",
    "n = len(laptops_selected_columns)\n",
    "n_val = int(0.2 * n)\n",
    "n_test = int(0.2 * n)\n",
    "n_train = n - n_test - n_val\n",
    "\n",
    "\n",
    "idx = np.arange(n)\n",
    "np.random.seed(9)\n",
    "np.random.shuffle(idx)\n",
    "    \n",
    "laptops_train_n = laptops_selected_columns.iloc[idx[:n_train]].copy()\n",
    "laptops_val_n = laptops_selected_columns.iloc[idx[n_train:n_train+n_val]].copy()\n",
    "laptops_test_n = laptops_selected_columns.iloc[idx[n_train+n_val:]].copy()\n",
    "# reset index\n",
    "laptops_train_n = laptops_train_n.reset_index(drop=True)\n",
    "laptops_val_n = laptops_val_n.reset_index(drop=True)\n",
    "laptops_test_n = laptops_test_n.reset_index(drop=True)\n",
    "# log of the final_price\n",
    "y_train_n = laptops_train_n.final_price.values\n",
    "y_val_n = laptops_val_n.final_price.values\n",
    "y_test_n = laptops_test_n.final_price.values\n",
    "\n",
    "# del variable\n",
    "del laptops_train_n['final_price']\n",
    "del laptops_val_n['final_price']\n",
    "del laptops_test_n['final_price']\n",
    "\n",
    "# extract the values\n",
    "x_train_n = prepare_value_zero(laptops_train_n)  \n",
    "x_val_n = prepare_value_zero(laptops_val_n)  \n",
    "\n",
    "# train the model\n",
    "w0_n, w_n = train_linear_regression_reg(x_train_n, y_train_n, r=0.001)\n",
    "\n",
    "# prediction for zero value\n",
    "y_pred_n= pred(w0_n, w_n, x_val_n)\n",
    "# rmse\n",
    "score = rmse(y_val_n, y_pred_n)\n",
    "score"
   ]
  },
  {
   "cell_type": "code",
   "execution_count": null,
   "id": "5a31a26c-2441-4ee9-adcf-8e2681d794ba",
   "metadata": {},
   "outputs": [],
   "source": [
    " "
   ]
  }
 ],
 "metadata": {
  "kernelspec": {
   "display_name": "Python 3 (ipykernel)",
   "language": "python",
   "name": "python3"
  },
  "language_info": {
   "codemirror_mode": {
    "name": "ipython",
    "version": 3
   },
   "file_extension": ".py",
   "mimetype": "text/x-python",
   "name": "python",
   "nbconvert_exporter": "python",
   "pygments_lexer": "ipython3",
   "version": "3.12.7"
  }
 },
 "nbformat": 4,
 "nbformat_minor": 5
}
